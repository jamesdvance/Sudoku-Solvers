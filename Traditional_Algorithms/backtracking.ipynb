{
 "cells": [
  {
   "attachments": {},
   "cell_type": "markdown",
   "metadata": {},
   "source": [
    "# Backtracking\n"
   ]
  },
  {
   "cell_type": "code",
   "execution_count": 1,
   "metadata": {},
   "outputs": [],
   "source": [
    "import sys, os \n",
    "import gym, gym_sudoku"
   ]
  },
  {
   "cell_type": "code",
   "execution_count": 2,
   "metadata": {},
   "outputs": [
    {
     "ename": "TypeError",
     "evalue": "slice indices must be integers or None or have an __index__ method",
     "output_type": "error",
     "traceback": [
      "\u001b[0;31m---------------------------------------------------------------------------\u001b[0m",
      "\u001b[0;31mTypeError\u001b[0m                                 Traceback (most recent call last)",
      "Cell \u001b[0;32mIn[2], line 1\u001b[0m\n\u001b[0;32m----> 1\u001b[0m env \u001b[39m=\u001b[39m gym\u001b[39m.\u001b[39;49mmake(\u001b[39m'\u001b[39;49m\u001b[39mSudoku-v0\u001b[39;49m\u001b[39m'\u001b[39;49m)\n\u001b[1;32m      2\u001b[0m env\u001b[39m.\u001b[39m_reset()\n\u001b[1;32m      3\u001b[0m \u001b[39mprint\u001b[39m(env\u001b[39m.\u001b[39mgrid)\n",
      "File \u001b[0;32m~/anaconda3/envs/py10_sudoku_env/lib/python3.10/site-packages/gym/envs/registration.py:652\u001b[0m, in \u001b[0;36mmake\u001b[0;34m(id, max_episode_steps, autoreset, apply_api_compatibility, disable_env_checker, **kwargs)\u001b[0m\n\u001b[1;32m    646\u001b[0m         \u001b[39mraise\u001b[39;00m error\u001b[39m.\u001b[39mError(\n\u001b[1;32m    647\u001b[0m             \u001b[39mf\u001b[39m\u001b[39m\"\u001b[39m\u001b[39mYou passed render_mode=\u001b[39m\u001b[39m'\u001b[39m\u001b[39mhuman\u001b[39m\u001b[39m'\u001b[39m\u001b[39m although \u001b[39m\u001b[39m{\u001b[39;00m\u001b[39mid\u001b[39m\u001b[39m}\u001b[39;00m\u001b[39m doesn\u001b[39m\u001b[39m'\u001b[39m\u001b[39mt implement human-rendering natively. \u001b[39m\u001b[39m\"\u001b[39m\n\u001b[1;32m    648\u001b[0m             \u001b[39m\"\u001b[39m\u001b[39mGym tried to apply the HumanRendering wrapper but it looks like your environment is using the old \u001b[39m\u001b[39m\"\u001b[39m\n\u001b[1;32m    649\u001b[0m             \u001b[39m\"\u001b[39m\u001b[39mrendering API, which is not supported by the HumanRendering wrapper.\u001b[39m\u001b[39m\"\u001b[39m\n\u001b[1;32m    650\u001b[0m         )\n\u001b[1;32m    651\u001b[0m     \u001b[39melse\u001b[39;00m:\n\u001b[0;32m--> 652\u001b[0m         \u001b[39mraise\u001b[39;00m e\n\u001b[1;32m    654\u001b[0m \u001b[39m# Copies the environment creation specification and kwargs to add to the environment specification details\u001b[39;00m\n\u001b[1;32m    655\u001b[0m spec_ \u001b[39m=\u001b[39m copy\u001b[39m.\u001b[39mdeepcopy(spec_)\n",
      "File \u001b[0;32m~/anaconda3/envs/py10_sudoku_env/lib/python3.10/site-packages/gym/envs/registration.py:640\u001b[0m, in \u001b[0;36mmake\u001b[0;34m(id, max_episode_steps, autoreset, apply_api_compatibility, disable_env_checker, **kwargs)\u001b[0m\n\u001b[1;32m    637\u001b[0m     render_mode \u001b[39m=\u001b[39m \u001b[39mNone\u001b[39;00m\n\u001b[1;32m    639\u001b[0m \u001b[39mtry\u001b[39;00m:\n\u001b[0;32m--> 640\u001b[0m     env \u001b[39m=\u001b[39m env_creator(\u001b[39m*\u001b[39;49m\u001b[39m*\u001b[39;49m_kwargs)\n\u001b[1;32m    641\u001b[0m \u001b[39mexcept\u001b[39;00m \u001b[39mTypeError\u001b[39;00m \u001b[39mas\u001b[39;00m e:\n\u001b[1;32m    642\u001b[0m     \u001b[39mif\u001b[39;00m (\n\u001b[1;32m    643\u001b[0m         \u001b[39mstr\u001b[39m(e)\u001b[39m.\u001b[39mfind(\u001b[39m\"\u001b[39m\u001b[39mgot an unexpected keyword argument \u001b[39m\u001b[39m'\u001b[39m\u001b[39mrender_mode\u001b[39m\u001b[39m'\u001b[39m\u001b[39m\"\u001b[39m) \u001b[39m>\u001b[39m\u001b[39m=\u001b[39m \u001b[39m0\u001b[39m\n\u001b[1;32m    644\u001b[0m         \u001b[39mand\u001b[39;00m apply_human_rendering\n\u001b[1;32m    645\u001b[0m     ):\n",
      "File \u001b[0;32m~/anaconda3/envs/py10_sudoku_env/lib/python3.10/site-packages/gym_sudoku/envs/sudoku_env.py:100\u001b[0m, in \u001b[0;36mSudokuEnv.__init__\u001b[0;34m(self)\u001b[0m\n\u001b[1;32m     98\u001b[0m \u001b[39m# Get a random solution for an empty grid\u001b[39;00m\n\u001b[1;32m     99\u001b[0m \u001b[39mself\u001b[39m\u001b[39m.\u001b[39mgrid \u001b[39m=\u001b[39m []\n\u001b[0;32m--> 100\u001b[0m \u001b[39mself\u001b[39m\u001b[39m.\u001b[39mbase \u001b[39m=\u001b[39m getSolutions(np\u001b[39m.\u001b[39;49mzeros(shape\u001b[39m=\u001b[39;49m(\u001b[39m9\u001b[39;49m,\u001b[39m9\u001b[39;49m)))[\u001b[39m0\u001b[39m]\n\u001b[1;32m    101\u001b[0m \u001b[39m# Get all positions in random order, to randomly parse the grid\u001b[39;00m\n\u001b[1;32m    102\u001b[0m N \u001b[39m=\u001b[39m \u001b[39mlen\u001b[39m(\u001b[39mself\u001b[39m\u001b[39m.\u001b[39mbase)\n",
      "File \u001b[0;32m~/anaconda3/envs/py10_sudoku_env/lib/python3.10/site-packages/gym_sudoku/envs/sudoku_env.py:82\u001b[0m, in \u001b[0;36mgetSolutions\u001b[0;34m(grid, stopAt, i, j, omit)\u001b[0m\n\u001b[1;32m     80\u001b[0m cGrid \u001b[39m=\u001b[39m np\u001b[39m.\u001b[39mcopy(grid)\n\u001b[1;32m     81\u001b[0m cGrid[i, j] \u001b[39m=\u001b[39m value\n\u001b[0;32m---> 82\u001b[0m subSolutions \u001b[39m=\u001b[39m getSolutions(cGrid, stopAt\u001b[39m=\u001b[39;49mstopAt\u001b[39m-\u001b[39;49m\u001b[39mlen\u001b[39;49m(solutions))\n\u001b[1;32m     83\u001b[0m solutions \u001b[39m=\u001b[39m np\u001b[39m.\u001b[39mconcatenate((solutions, subSolutions))\n\u001b[1;32m     84\u001b[0m \u001b[39mif\u001b[39;00m \u001b[39mlen\u001b[39m(solutions) \u001b[39m>\u001b[39m\u001b[39m=\u001b[39m stopAt:\n",
      "File \u001b[0;32m~/anaconda3/envs/py10_sudoku_env/lib/python3.10/site-packages/gym_sudoku/envs/sudoku_env.py:58\u001b[0m, in \u001b[0;36mgetSolutions\u001b[0;34m(grid, stopAt, i, j, omit)\u001b[0m\n\u001b[1;32m     56\u001b[0m \u001b[39mdef\u001b[39;00m \u001b[39mgetSolutions\u001b[39m(grid, stopAt\u001b[39m=\u001b[39m\u001b[39m1\u001b[39m, i\u001b[39m=\u001b[39m\u001b[39m-\u001b[39m\u001b[39m1\u001b[39m, j\u001b[39m=\u001b[39m\u001b[39m-\u001b[39m\u001b[39m1\u001b[39m, omit\u001b[39m=\u001b[39m\u001b[39m-\u001b[39m\u001b[39m1\u001b[39m):\n\u001b[1;32m     57\u001b[0m \tN \u001b[39m=\u001b[39m \u001b[39mlen\u001b[39m(grid)\n\u001b[0;32m---> 58\u001b[0m \tcheck \u001b[39m=\u001b[39m checkSolution(grid)\n\u001b[1;32m     59\u001b[0m \t\u001b[39m# Check if grid is resolve or if there is an error\u001b[39;00m\n\u001b[1;32m     60\u001b[0m \t\u001b[39mif\u001b[39;00m check \u001b[39m==\u001b[39m resolved:\n",
      "File \u001b[0;32m~/anaconda3/envs/py10_sudoku_env/lib/python3.10/site-packages/gym_sudoku/envs/sudoku_env.py:32\u001b[0m, in \u001b[0;36mcheckSolution\u001b[0;34m(grid)\u001b[0m\n\u001b[1;32m     30\u001b[0m iOffset \u001b[39m=\u001b[39m i\u001b[39m/\u001b[39mn\u001b[39m*\u001b[39mn\n\u001b[1;32m     31\u001b[0m jOffset \u001b[39m=\u001b[39m j\u001b[39m/\u001b[39mn\u001b[39m*\u001b[39mn\n\u001b[0;32m---> 32\u001b[0m square \u001b[39m=\u001b[39m grid[ iOffset:iOffset \u001b[39m+\u001b[39;49m n , jOffset:jOffset \u001b[39m+\u001b[39;49m n]\u001b[39m.\u001b[39mflatten()\n\u001b[1;32m     33\u001b[0m \u001b[39m# Check uniqueness\u001b[39;00m\n\u001b[1;32m     34\u001b[0m uniqueInRow    \u001b[39m=\u001b[39m countItem(grid[i], grid[i, j])  \u001b[39m==\u001b[39m \u001b[39m1\u001b[39m\n",
      "\u001b[0;31mTypeError\u001b[0m: slice indices must be integers or None or have an __index__ method"
     ]
    }
   ],
   "source": [
    "env = gym.make('Sudoku-v0')\n",
    "env._reset()\n",
    "print(env.grid)\n",
    "\n"
   ]
  },
  {
   "cell_type": "code",
   "execution_count": null,
   "metadata": {},
   "outputs": [],
   "source": [
    "grid = np.array(\n",
    "[[0,0,0,4,0,9,0,0,1],\n",
    "[0,0,4,0,3,0,0,2,0],\n",
    "[0,7,2,0,5,1,0,0,6],\n",
    "[4,2,1,0,0,5,6,0,0],\n",
    "[8,0,0,0,0,2,0,0,0],\n",
    "[3,0,0,9,0,0,0,0,0],\n",
    "[0,1,0,5,7,4,0,0,0],\n",
    "[5,0,6,0,0,3,0,0,7],\n",
    "[0,0,3,0,9,0,0,1,0]])\n",
    "\n",
    "print getSolutions(grid)"
   ]
  },
  {
   "cell_type": "code",
   "execution_count": null,
   "metadata": {},
   "outputs": [],
   "source": []
  }
 ],
 "metadata": {
  "kernelspec": {
   "display_name": "py10_sudoku_env",
   "language": "python",
   "name": "python3"
  },
  "language_info": {
   "codemirror_mode": {
    "name": "ipython",
    "version": 3
   },
   "file_extension": ".py",
   "mimetype": "text/x-python",
   "name": "python",
   "nbconvert_exporter": "python",
   "pygments_lexer": "ipython3",
   "version": "3.10.9"
  },
  "orig_nbformat": 4
 },
 "nbformat": 4,
 "nbformat_minor": 2
}

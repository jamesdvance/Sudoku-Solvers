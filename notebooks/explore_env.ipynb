{
 "cells": [
  {
   "cell_type": "code",
   "execution_count": 1,
   "metadata": {},
   "outputs": [
    {
     "data": {
      "text/plain": [
       "catch_warnings()"
      ]
     },
     "execution_count": 1,
     "metadata": {},
     "output_type": "execute_result"
    }
   ],
   "source": [
    "import sys, os \n",
    "import gym \n",
    "import numpy as np\n",
    "import gym_sudoku\n",
    "import warnings \n",
    "warnings.catch_warnings()"
   ]
  },
  {
   "cell_type": "code",
   "execution_count": 2,
   "metadata": {},
   "outputs": [
    {
     "name": "stdout",
     "output_type": "stream",
     "text": [
      "[[0 5 0 1 8 9 4 2 7]\n",
      " [0 0 0 0 6 0 0 9 1]\n",
      " [0 0 0 0 5 7 6 8 0]\n",
      " [0 0 6 0 0 1 0 0 0]\n",
      " [0 8 7 6 9 3 0 0 2]\n",
      " [0 1 0 4 0 0 9 3 6]\n",
      " [8 6 0 0 4 0 0 1 0]\n",
      " [0 3 4 8 1 0 0 0 0]\n",
      " [1 0 5 9 0 0 0 7 4]]\n"
     ]
    },
    {
     "name": "stderr",
     "output_type": "stream",
     "text": [
      "/home/james/anaconda3/envs/py10_sudoku_env/lib/python3.10/site-packages/gym/utils/passive_env_checker.py:31: UserWarning: \u001b[33mWARN: A Box observation space has an unconventional shape (neither an image, nor a 1D vector). We recommend flattening the observation to have only a 1D vector or use a custom policy to properly process the data. Actual observation shape: (9, 9)\u001b[0m\n",
      "  logger.warn(\n",
      "/home/james/anaconda3/envs/py10_sudoku_env/lib/python3.10/site-packages/gym/utils/passive_env_checker.py:174: UserWarning: \u001b[33mWARN: Future gym versions will require that `Env.reset` can be passed a `seed` instead of using `Env.seed` for resetting the environment random number generator.\u001b[0m\n",
      "  logger.warn(\n",
      "/home/james/anaconda3/envs/py10_sudoku_env/lib/python3.10/site-packages/gym/utils/passive_env_checker.py:187: UserWarning: \u001b[33mWARN: Future gym versions will require that `Env.reset` can be passed `options` to allow the environment initialisation to be passed additional information.\u001b[0m\n",
      "  logger.warn(\n",
      "/home/james/anaconda3/envs/py10_sudoku_env/lib/python3.10/site-packages/gym/utils/passive_env_checker.py:195: UserWarning: \u001b[33mWARN: The result returned by `env.reset()` was not a tuple of the form `(obs, info)`, where `obs` is a observation and `info` is a dictionary containing additional information. Actual type: `<class 'numpy.ndarray'>`\u001b[0m\n",
      "  logger.warn(\n"
     ]
    }
   ],
   "source": [
    "env = gym.make('Sudoku-v0')\n",
    "env.reset()\n",
    "print(env.grid)"
   ]
  },
  {
   "cell_type": "code",
   "execution_count": 4,
   "metadata": {},
   "outputs": [
    {
     "data": {
      "text/plain": [
       "array([[0, 5, 0, 1, 8, 9, 4, 2, 7],\n",
       "       [0, 0, 0, 0, 6, 0, 0, 9, 1],\n",
       "       [0, 0, 0, 0, 5, 7, 6, 8, 0],\n",
       "       [0, 0, 6, 0, 0, 1, 0, 0, 0],\n",
       "       [0, 8, 7, 6, 9, 3, 0, 0, 2],\n",
       "       [0, 1, 0, 4, 0, 0, 9, 3, 6],\n",
       "       [8, 6, 0, 0, 4, 0, 0, 1, 0],\n",
       "       [0, 3, 4, 8, 1, 0, 0, 0, 0],\n",
       "       [1, 0, 5, 9, 0, 0, 0, 7, 4]])"
      ]
     },
     "execution_count": 4,
     "metadata": {},
     "output_type": "execute_result"
    }
   ],
   "source": [
    "env.base"
   ]
  },
  {
   "cell_type": "code",
   "execution_count": 10,
   "metadata": {},
   "outputs": [
    {
     "data": {
      "text/plain": [
       "numpy.ndarray"
      ]
     },
     "execution_count": 10,
     "metadata": {},
     "output_type": "execute_result"
    }
   ],
   "source": [
    "type(env.grid)"
   ]
  },
  {
   "cell_type": "code",
   "execution_count": 6,
   "metadata": {},
   "outputs": [
    {
     "name": "stderr",
     "output_type": "stream",
     "text": [
      "/home/james/anaconda3/envs/py10_sudoku_env/lib/python3.10/site-packages/gym/utils/passive_env_checker.py:219: DeprecationWarning: \u001b[33mWARN: Core environment is written in old step API which returns one bool instead of two. It is recommended to rewrite the environment with new step API. \u001b[0m\n",
      "  logger.deprecation(\n",
      "/home/james/anaconda3/envs/py10_sudoku_env/lib/python3.10/site-packages/gym/utils/passive_env_checker.py:141: UserWarning: \u001b[33mWARN: The obs returned by the `step()` method was expecting numpy array dtype to be float32, actual type: int64\u001b[0m\n",
      "  logger.warn(\n",
      "/home/james/anaconda3/envs/py10_sudoku_env/lib/python3.10/site-packages/gym/utils/passive_env_checker.py:165: UserWarning: \u001b[33mWARN: The obs returned by the `step()` method is not within the observation space.\u001b[0m\n",
      "  logger.warn(f\"{pre} is not within the observation space.\")\n"
     ]
    },
    {
     "data": {
      "text/plain": [
       "(array([[0, 5, 0, 1, 8, 9, 4, 2, 7],\n",
       "        [0, 0, 0, 0, 6, 0, 0, 9, 1],\n",
       "        [0, 0, 0, 0, 5, 7, 6, 8, 0],\n",
       "        [0, 0, 6, 0, 0, 1, 0, 0, 0],\n",
       "        [0, 8, 7, 6, 9, 3, 0, 0, 2],\n",
       "        [0, 1, 0, 4, 0, 0, 9, 3, 6],\n",
       "        [8, 6, 0, 0, 4, 0, 0, 1, 0],\n",
       "        [0, 3, 4, 8, 1, 0, 0, 0, 0],\n",
       "        [1, 0, 5, 9, 0, 0, 0, 7, 4]]),\n",
       " -1,\n",
       " False,\n",
       " {})"
      ]
     },
     "execution_count": 6,
     "metadata": {},
     "output_type": "execute_result"
    }
   ],
   "source": [
    "# Make a move at position 0,0 playing number 5\n",
    "#env.reset()\n",
    "env.step([0,1,4])"
   ]
  },
  {
   "cell_type": "code",
   "execution_count": null,
   "metadata": {},
   "outputs": [],
   "source": [
    "# Let's see our move\n",
    "env.render()"
   ]
  },
  {
   "cell_type": "code",
   "execution_count": 8,
   "metadata": {},
   "outputs": [
    {
     "data": {
      "text/plain": [
       "(array([[0, 5, 0, 1, 8, 9, 4, 2, 7],\n",
       "        [3, 0, 0, 0, 6, 0, 0, 9, 1],\n",
       "        [0, 0, 0, 0, 5, 7, 6, 8, 0],\n",
       "        [0, 0, 6, 0, 0, 1, 0, 0, 0],\n",
       "        [0, 8, 7, 6, 9, 3, 0, 0, 2],\n",
       "        [0, 1, 0, 4, 0, 0, 9, 3, 6],\n",
       "        [8, 6, 0, 0, 4, 0, 0, 1, 0],\n",
       "        [0, 3, 4, 8, 1, 0, 0, 0, 0],\n",
       "        [1, 0, 5, 9, 0, 0, 0, 7, 4]]),\n",
       " 1,\n",
       " False,\n",
       " {})"
      ]
     },
     "execution_count": 8,
     "metadata": {},
     "output_type": "execute_result"
    }
   ],
   "source": [
    "env.step([1,0,2])"
   ]
  },
  {
   "cell_type": "code",
   "execution_count": 9,
   "metadata": {},
   "outputs": [
    {
     "name": "stdout",
     "output_type": "stream",
     "text": [
      "050 | 189 | 427\n",
      "\u001b[91m2\u001b[0m00 | 060 | 091\n",
      "000 | 057 | 680\n",
      "---------------\n",
      "006 | 001 | 000\n",
      "087 | 693 | 002\n",
      "010 | 400 | 936\n",
      "---------------\n",
      "860 | 040 | 010\n",
      "034 | 810 | 000\n",
      "105 | 900 | 074\n",
      "\n",
      "\n"
     ]
    }
   ],
   "source": [
    "# Let's see our move\n",
    "env.render()"
   ]
  },
  {
   "cell_type": "code",
   "execution_count": null,
   "metadata": {},
   "outputs": [],
   "source": []
  }
 ],
 "metadata": {
  "kernelspec": {
   "display_name": "py10_sudoku_env",
   "language": "python",
   "name": "python3"
  },
  "language_info": {
   "codemirror_mode": {
    "name": "ipython",
    "version": 3
   },
   "file_extension": ".py",
   "mimetype": "text/x-python",
   "name": "python",
   "nbconvert_exporter": "python",
   "pygments_lexer": "ipython3",
   "version": "3.10.9"
  },
  "orig_nbformat": 4,
  "vscode": {
   "interpreter": {
    "hash": "e11f0e38d0a273650ee6424012dafb5fe7d7c2a050e198e55376a13cb62cf55c"
   }
  }
 },
 "nbformat": 4,
 "nbformat_minor": 2
}

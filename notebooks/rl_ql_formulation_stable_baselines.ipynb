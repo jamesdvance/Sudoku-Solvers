{
 "cells": [
  {
   "cell_type": "code",
   "execution_count": 83,
   "metadata": {},
   "outputs": [],
   "source": [
    "import sys, os \n",
    "import gym \n",
    "import gymnasium\n",
    "import numpy as np\n",
    "import pandas as pd \n",
    "import gym_sudoku\n",
    "import stable_baselines3"
   ]
  },
  {
   "cell_type": "code",
   "execution_count": 61,
   "metadata": {},
   "outputs": [],
   "source": [
    "from gym_sudoku.envs import SudokuEnv"
   ]
  },
  {
   "attachments": {},
   "cell_type": "markdown",
   "metadata": {},
   "source": [
    "## Reinforcement Learning\n",
    "\n",
    "* [Stable Baselines 3 (Pytorch)](https://github.com/DLR-RM/stable-baselines3)"
   ]
  },
  {
   "cell_type": "code",
   "execution_count": 62,
   "metadata": {},
   "outputs": [],
   "source": [
    "# Trying to make it backwards compatible\n",
    "env = gym.make(\"Sudoku-v0\")\n",
    "#env = gymnasium.make('Sudoku-v0', env=SudokuEnv())\n",
    "#env= gym.make('Sudoku-v0',apply_api_compatibility=True)\n",
    "# env.reset()"
   ]
  },
  {
   "cell_type": "code",
   "execution_count": 63,
   "metadata": {},
   "outputs": [
    {
     "data": {
      "text/plain": [
       "array([[0, 4, 9, 0, 3, 0, 2, 1, 0],\n",
       "       [5, 2, 7, 9, 0, 1, 3, 0, 0],\n",
       "       [0, 6, 0, 0, 2, 8, 0, 0, 0],\n",
       "       [4, 8, 0, 0, 7, 0, 0, 3, 1],\n",
       "       [0, 7, 0, 5, 0, 0, 8, 0, 0],\n",
       "       [2, 0, 0, 0, 9, 0, 5, 6, 0],\n",
       "       [1, 5, 0, 0, 0, 0, 6, 0, 2],\n",
       "       [7, 9, 2, 0, 5, 0, 0, 0, 3],\n",
       "       [6, 0, 0, 0, 4, 7, 0, 9, 5]])"
      ]
     },
     "execution_count": 63,
     "metadata": {},
     "output_type": "execute_result"
    }
   ],
   "source": [
    "env.reset()"
   ]
  },
  {
   "cell_type": "code",
   "execution_count": 64,
   "metadata": {},
   "outputs": [],
   "source": [
    "grid = env.reset()"
   ]
  },
  {
   "cell_type": "code",
   "execution_count": 65,
   "metadata": {},
   "outputs": [],
   "source": [
    "flatgrid = grid.flatten()"
   ]
  },
  {
   "cell_type": "code",
   "execution_count": 66,
   "metadata": {},
   "outputs": [
    {
     "data": {
      "text/plain": [
       "array([[0, 4, 9, 0, 3, 0, 2, 1, 0],\n",
       "       [5, 2, 7, 9, 0, 1, 3, 0, 0],\n",
       "       [0, 6, 0, 0, 2, 8, 0, 0, 0],\n",
       "       [4, 8, 0, 0, 7, 0, 0, 3, 1],\n",
       "       [0, 7, 0, 5, 0, 0, 8, 0, 0],\n",
       "       [2, 0, 0, 0, 9, 0, 5, 6, 0],\n",
       "       [1, 5, 0, 0, 0, 0, 6, 0, 2],\n",
       "       [7, 9, 2, 0, 5, 0, 0, 0, 3],\n",
       "       [6, 0, 0, 0, 4, 7, 0, 9, 5]])"
      ]
     },
     "execution_count": 66,
     "metadata": {},
     "output_type": "execute_result"
    }
   ],
   "source": [
    "flatgrid.reshape(9,9)"
   ]
  },
  {
   "cell_type": "code",
   "execution_count": 67,
   "metadata": {},
   "outputs": [
    {
     "name": "stdout",
     "output_type": "stream",
     "text": [
      "049 | 030 | 210\n",
      "527 | 901 | 300\n",
      "060 | 028 | 000\n",
      "---------------\n",
      "480 | 070 | 031\n",
      "070 | 500 | 800\n",
      "200 | 090 | 560\n",
      "---------------\n",
      "150 | 000 | 602\n",
      "792 | 050 | 003\n",
      "600 | 047 | 095\n",
      "\n",
      "\n"
     ]
    }
   ],
   "source": [
    "env.render()"
   ]
  },
  {
   "cell_type": "code",
   "execution_count": 68,
   "metadata": {},
   "outputs": [
    {
     "data": {
      "text/plain": [
       "'0.21.0'"
      ]
     },
     "execution_count": 68,
     "metadata": {},
     "output_type": "execute_result"
    }
   ],
   "source": [
    "gym.__version__"
   ]
  },
  {
   "attachments": {},
   "cell_type": "markdown",
   "metadata": {},
   "source": [
    "# 1D Discrete Action Space \n",
    "* 729 choices"
   ]
  },
  {
   "attachments": {},
   "cell_type": "markdown",
   "metadata": {},
   "source": [
    "### Deep Q MLP\n",
    "stable_baselines3.dqn"
   ]
  },
  {
   "cell_type": "code",
   "execution_count": 69,
   "metadata": {},
   "outputs": [],
   "source": [
    "from stable_baselines3 import DQN, PPO, A2C\n",
    "from stable_baselines3.dqn import MlpPolicy, CnnPolicy"
   ]
  },
  {
   "cell_type": "code",
   "execution_count": 70,
   "metadata": {},
   "outputs": [],
   "source": [
    "from gym.spaces import Discrete, Tuple"
   ]
  },
  {
   "cell_type": "code",
   "execution_count": 94,
   "metadata": {},
   "outputs": [
    {
     "name": "stdout",
     "output_type": "stream",
     "text": [
      "== CURRENT SYSTEM INFO ==\n",
      "- OS: Linux-5.15.90.1-microsoft-standard-WSL2-x86_64-with-glibc2.35 # 1 SMP Fri Jan 27 02:56:13 UTC 2023\n",
      "- Python: 3.10.9\n",
      "- Stable-Baselines3: 1.8.0\n",
      "- PyTorch: 2.0.0+cu117\n",
      "- GPU Enabled: True\n",
      "- Numpy: 1.23.5\n",
      "- Gym: 0.21.0\n",
      "\n",
      "== SAVED MODEL SYSTEM INFO ==\n",
      "- OS: Linux-5.15.90.1-microsoft-standard-WSL2-x86_64-with-glibc2.35 # 1 SMP Fri Jan 27 02:56:13 UTC 2023\n",
      "- Python: 3.10.9\n",
      "- Stable-Baselines3: 1.8.0\n",
      "- PyTorch: 2.0.0+cu117\n",
      "- GPU Enabled: True\n",
      "- Numpy: 1.23.5\n",
      "- Gym: 0.21.0\n",
      "\n"
     ]
    }
   ],
   "source": [
    "#model = DQN(\"MlpPolicy\",env, verbose=1)\n",
    "model = DQN.load(\"dqn_1_000_000_int_array_input\", print_system_info=True)"
   ]
  },
  {
   "cell_type": "code",
   "execution_count": 95,
   "metadata": {},
   "outputs": [],
   "source": [
    "# import time\n",
    "# start = time.perf_counter()\n",
    "# model.learn(total_timesteps=1_000_000)\n",
    "# length = time.perf_counter() - start "
   ]
  },
  {
   "cell_type": "code",
   "execution_count": 96,
   "metadata": {},
   "outputs": [],
   "source": [
    "# print(f\"{length/60.0} minutes\")"
   ]
  },
  {
   "cell_type": "code",
   "execution_count": 97,
   "metadata": {},
   "outputs": [],
   "source": [
    "action_choices = [(i,j,k) for i in range(9) for j in range(9) for k in range(9)]\n",
    "action_to_choice = dict(zip(list(range(9**3)), action_choices))"
   ]
  },
  {
   "cell_type": "code",
   "execution_count": 98,
   "metadata": {},
   "outputs": [],
   "source": [
    "def score_choice(action_int,obs_arr):\n",
    "    \"\"\"\n",
    "    Score action before action applied to observation\n",
    "    \"\"\"\n",
    "    x,y,val = action_to_choice[action_int]\n",
    "    empty_cell = False if obs_arr[x][y] != 0 else True \n",
    "    exists_row = True if val in list(obs_arr[:,y])  else False\n",
    "    exists_col = True if val in list(obs_arr[x,:])  else False\n",
    "    br,bc = 3*(x//3), 3*(y//3)\n",
    "    exists_box = any([obs_arr[i][j] == val for i in range(br, br+3) for j in range(bc,bc+3)])\n",
    "    valid_move = (empty_cell and not exists_row and not exists_col and not exists_box)\n",
    "\n",
    "    return {\n",
    "        \"empty_cell\": empty_cell,\n",
    "        \"exists_row\": exists_row,\n",
    "        \"exists_col\": exists_col,\n",
    "        \"exists_box\": exists_box,\n",
    "        \"valid_move\":valid_move\n",
    "\n",
    "    }"
   ]
  },
  {
   "cell_type": "code",
   "execution_count": 82,
   "metadata": {},
   "outputs": [
    {
     "name": "stdout",
     "output_type": "stream",
     "text": [
      "049 | 431 | 210\n",
      "527 | 901 | 322\n",
      "067 | 528 | 003\n",
      "---------------\n",
      "484 | 077 | 731\n",
      "179 | 551 | 884\n",
      "230 | 790 | 560\n",
      "---------------\n",
      "150 | \u001b[91m1\u001b[0m42 | 652\n",
      "792 | 557 | 913\n",
      "645 | 047 | 095\n",
      "\n",
      "\n"
     ]
    }
   ],
   "source": [
    "obs = env.reset()\n",
    "obs_orig = obs \n",
    "outputs = []\n",
    "for _ in range(2000):\n",
    "    action, _states = model.predict(obs)\n",
    "    outputs.append(score_choice(action.item(), obs))\n",
    "    obs, reward, done, info = env.step(action.item())\n",
    "env.render()"
   ]
  },
  {
   "cell_type": "code",
   "execution_count": 84,
   "metadata": {},
   "outputs": [],
   "source": [
    "choices_df = pd.DataFrame(outputs)"
   ]
  },
  {
   "cell_type": "code",
   "execution_count": 91,
   "metadata": {},
   "outputs": [
    {
     "name": "stdout",
     "output_type": "stream",
     "text": [
      "Percent valid moves: 0.2%\n"
     ]
    }
   ],
   "source": [
    "print(f\"Percent valid moves: {choices_df['valid_move'].sum()/len(choices_df)*100}%\")"
   ]
  },
  {
   "cell_type": "code",
   "execution_count": 76,
   "metadata": {},
   "outputs": [],
   "source": [
    "# model.save(path=\"dqn_1_000_000_int_array_input\")"
   ]
  },
  {
   "attachments": {},
   "cell_type": "markdown",
   "metadata": {},
   "source": [
    "### PPO MLP"
   ]
  },
  {
   "cell_type": "code",
   "execution_count": 87,
   "metadata": {},
   "outputs": [
    {
     "name": "stdout",
     "output_type": "stream",
     "text": [
      "== CURRENT SYSTEM INFO ==\n",
      "- OS: Linux-5.15.90.1-microsoft-standard-WSL2-x86_64-with-glibc2.35 # 1 SMP Fri Jan 27 02:56:13 UTC 2023\n",
      "- Python: 3.10.9\n",
      "- Stable-Baselines3: 1.8.0\n",
      "- PyTorch: 2.0.0+cu117\n",
      "- GPU Enabled: True\n",
      "- Numpy: 1.23.5\n",
      "- Gym: 0.21.0\n",
      "\n",
      "== SAVED MODEL SYSTEM INFO ==\n",
      "- OS: Linux-5.15.90.1-microsoft-standard-WSL2-x86_64-with-glibc2.35 # 1 SMP Fri Jan 27 02:56:13 UTC 2023\n",
      "- Python: 3.10.9\n",
      "- Stable-Baselines3: 1.8.0\n",
      "- PyTorch: 2.0.0+cu117\n",
      "- GPU Enabled: True\n",
      "- Numpy: 1.23.5\n",
      "- Gym: 0.21.0\n",
      "\n"
     ]
    }
   ],
   "source": [
    "loaded_model = PPO.load(\"ppo_1_000_000\", print_system_info=True)"
   ]
  },
  {
   "cell_type": "code",
   "execution_count": 92,
   "metadata": {},
   "outputs": [
    {
     "name": "stdout",
     "output_type": "stream",
     "text": [
      "049 | 435 | 216\n",
      "527 | 941 | 37\u001b[91m0\u001b[0m\n",
      "069 | 128 | 870\n",
      "---------------\n",
      "486 | 971 | 831\n",
      "275 | 550 | 844\n",
      "223 | 499 | 560\n",
      "---------------\n",
      "153 | 276 | 622\n",
      "792 | 752 | 663\n",
      "621 | 247 | 695\n",
      "\n",
      "\n"
     ]
    }
   ],
   "source": [
    "obs = env.reset()\n",
    "obs_orig = obs \n",
    "outputs = []\n",
    "for _ in range(2000):\n",
    "    action, _states = loaded_model.predict(obs)\n",
    "    outputs.append(score_choice(action.item(), obs))\n",
    "    obs, reward, done, info = env.step(action.item())\n",
    "env.render()"
   ]
  },
  {
   "cell_type": "code",
   "execution_count": 93,
   "metadata": {},
   "outputs": [
    {
     "name": "stdout",
     "output_type": "stream",
     "text": [
      "Percent valid moves: 0.15%\n"
     ]
    }
   ],
   "source": [
    "choices_df = pd.DataFrame(outputs)\n",
    "print(f\"Percent valid moves: {choices_df['valid_move'].sum()/len(choices_df)*100}%\")"
   ]
  },
  {
   "attachments": {},
   "cell_type": "markdown",
   "metadata": {},
   "source": [
    "## Box Action space"
   ]
  },
  {
   "cell_type": "markdown",
   "metadata": {},
   "source": []
  }
 ],
 "metadata": {
  "kernelspec": {
   "display_name": "py10_sudoku_env",
   "language": "python",
   "name": "python3"
  },
  "language_info": {
   "codemirror_mode": {
    "name": "ipython",
    "version": 3
   },
   "file_extension": ".py",
   "mimetype": "text/x-python",
   "name": "python",
   "nbconvert_exporter": "python",
   "pygments_lexer": "ipython3",
   "version": "3.10.9"
  },
  "orig_nbformat": 4
 },
 "nbformat": 4,
 "nbformat_minor": 2
}

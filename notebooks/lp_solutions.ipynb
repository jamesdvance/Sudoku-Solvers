{
 "cells": [
  {
   "cell_type": "code",
   "execution_count": 1,
   "metadata": {},
   "outputs": [],
   "source": [
    "import sys, os \n",
    "import time\n",
    "import gym \n",
    "import numpy as np\n",
    "import gym_sudoku\n",
    "import warnings\n",
    "sys.path.append(\"../\")"
   ]
  },
  {
   "cell_type": "code",
   "execution_count": 2,
   "metadata": {},
   "outputs": [],
   "source": [
    "from utils import get_solutions, check_solution"
   ]
  },
  {
   "cell_type": "code",
   "execution_count": 3,
   "metadata": {},
   "outputs": [],
   "source": [
    "from algorithms import linear_program"
   ]
  },
  {
   "attachments": {},
   "cell_type": "markdown",
   "metadata": {},
   "source": [
    "## Make Gym"
   ]
  },
  {
   "cell_type": "code",
   "execution_count": 4,
   "metadata": {},
   "outputs": [
    {
     "name": "stdout",
     "output_type": "stream",
     "text": [
      "[[3 0 0 0 0 0 0 0 4]\n",
      " [2 4 7 0 6 0 8 0 0]\n",
      " [9 8 6 0 0 0 0 5 0]\n",
      " [5 2 9 0 8 4 0 7 0]\n",
      " [0 6 4 0 0 0 0 9 8]\n",
      " [0 3 0 0 9 6 0 1 0]\n",
      " [0 9 2 3 0 0 0 8 7]\n",
      " [8 0 1 0 5 0 6 0 0]\n",
      " [4 5 3 0 0 8 1 2 0]]\n"
     ]
    },
    {
     "name": "stderr",
     "output_type": "stream",
     "text": [
      "/home/james/anaconda3/envs/py10_sudoku_env/lib/python3.10/site-packages/gym/utils/passive_env_checker.py:31: UserWarning: \u001b[33mWARN: A Box observation space has an unconventional shape (neither an image, nor a 1D vector). We recommend flattening the observation to have only a 1D vector or use a custom policy to properly process the data. Actual observation shape: (9, 9)\u001b[0m\n",
      "  logger.warn(\n",
      "/home/james/anaconda3/envs/py10_sudoku_env/lib/python3.10/site-packages/gym/utils/passive_env_checker.py:174: UserWarning: \u001b[33mWARN: Future gym versions will require that `Env.reset` can be passed a `seed` instead of using `Env.seed` for resetting the environment random number generator.\u001b[0m\n",
      "  logger.warn(\n",
      "/home/james/anaconda3/envs/py10_sudoku_env/lib/python3.10/site-packages/gym/utils/passive_env_checker.py:187: UserWarning: \u001b[33mWARN: Future gym versions will require that `Env.reset` can be passed `options` to allow the environment initialisation to be passed additional information.\u001b[0m\n",
      "  logger.warn(\n",
      "/home/james/anaconda3/envs/py10_sudoku_env/lib/python3.10/site-packages/gym/utils/passive_env_checker.py:195: UserWarning: \u001b[33mWARN: The result returned by `env.reset()` was not a tuple of the form `(obs, info)`, where `obs` is a observation and `info` is a dictionary containing additional information. Actual type: `<class 'numpy.ndarray'>`\u001b[0m\n",
      "  logger.warn(\n"
     ]
    }
   ],
   "source": [
    "warnings.catch_warnings()\n",
    "env = gym.make('Sudoku-v0')\n",
    "env.reset()\n",
    "print(env.grid)\n",
    "starting_grid = env.grid"
   ]
  },
  {
   "cell_type": "code",
   "execution_count": 5,
   "metadata": {},
   "outputs": [
    {
     "name": "stdout",
     "output_type": "stream",
     "text": [
      "Setting row 0 col 0 to 3\n",
      "Setting row 0 col 8 to 4\n",
      "Setting row 1 col 0 to 2\n",
      "Setting row 1 col 1 to 4\n",
      "Setting row 1 col 2 to 7\n",
      "Setting row 1 col 4 to 6\n",
      "Setting row 1 col 6 to 8\n",
      "Setting row 2 col 0 to 9\n",
      "Setting row 2 col 1 to 8\n",
      "Setting row 2 col 2 to 6\n",
      "Setting row 2 col 7 to 5\n",
      "Setting row 3 col 0 to 5\n",
      "Setting row 3 col 1 to 2\n",
      "Setting row 3 col 2 to 9\n",
      "Setting row 3 col 4 to 8\n",
      "Setting row 3 col 5 to 4\n",
      "Setting row 3 col 7 to 7\n",
      "Setting row 4 col 1 to 6\n",
      "Setting row 4 col 2 to 4\n",
      "Setting row 4 col 7 to 9\n",
      "Setting row 4 col 8 to 8\n",
      "Setting row 5 col 1 to 3\n",
      "Setting row 5 col 4 to 9\n",
      "Setting row 5 col 5 to 6\n",
      "Setting row 5 col 7 to 1\n",
      "Setting row 6 col 1 to 9\n",
      "Setting row 6 col 2 to 2\n",
      "Setting row 6 col 3 to 3\n",
      "Setting row 6 col 7 to 8\n",
      "Setting row 6 col 8 to 7\n",
      "Setting row 7 col 0 to 8\n",
      "Setting row 7 col 2 to 1\n",
      "Setting row 7 col 4 to 5\n",
      "Setting row 7 col 6 to 6\n",
      "Setting row 8 col 0 to 4\n",
      "Setting row 8 col 1 to 5\n",
      "Setting row 8 col 2 to 3\n",
      "Setting row 8 col 5 to 8\n",
      "Setting row 8 col 6 to 1\n",
      "Setting row 8 col 7 to 2\n",
      "Welcome to the CBC MILP Solver \n",
      "Version: 2.10.3 \n",
      "Build Date: Dec 15 2019 \n",
      "\n",
      "command line - /home/james/anaconda3/envs/py10_sudoku_env/lib/python3.10/site-packages/pulp/solverdir/cbc/linux/64/cbc /tmp/9bcf5204636d46c988498dba843617a3-pulp.mps timeMode elapsed branch printingOptions all solution /tmp/9bcf5204636d46c988498dba843617a3-pulp.sol (default strategy 1)\n",
      "At line 2 NAME          MODEL\n",
      "At line 3 ROWS\n",
      "At line 369 COLUMNS\n",
      "At line 4785 RHS\n",
      "At line 5150 BOUNDS\n",
      "At line 5881 ENDATA\n",
      "Problem MODEL has 364 rows, 730 columns and 2956 elements\n",
      "Coin0008I MODEL read with 0 errors\n",
      "Option for timeMode changed from cpu to elapsed\n",
      "Continuous objective value is 0 - 0.00 seconds\n",
      "Cgl0004I processed model has 0 rows, 0 columns (0 integer (0 of which binary)) and 0 elements\n",
      "Cbc3007W No integer variables - nothing to do\n",
      "Cuts at root node changed objective from 0 to -1.79769e+308\n",
      "Probing was tried 0 times and created 0 cuts of which 0 were active after adding rounds of cuts (0.000 seconds)\n",
      "Gomory was tried 0 times and created 0 cuts of which 0 were active after adding rounds of cuts (0.000 seconds)\n",
      "Knapsack was tried 0 times and created 0 cuts of which 0 were active after adding rounds of cuts (0.000 seconds)\n",
      "Clique was tried 0 times and created 0 cuts of which 0 were active after adding rounds of cuts (0.000 seconds)\n",
      "MixedIntegerRounding2 was tried 0 times and created 0 cuts of which 0 were active after adding rounds of cuts (0.000 seconds)\n",
      "FlowCover was tried 0 times and created 0 cuts of which 0 were active after adding rounds of cuts (0.000 seconds)\n",
      "TwoMirCuts was tried 0 times and created 0 cuts of which 0 were active after adding rounds of cuts (0.000 seconds)\n",
      "ZeroHalf was tried 0 times and created 0 cuts of which 0 were active after adding rounds of cuts (0.000 seconds)\n",
      "\n",
      "Result - Optimal solution found\n",
      "\n",
      "Objective value:                0.00000000\n",
      "Enumerated nodes:               0\n",
      "Total iterations:               0\n",
      "Time (CPU seconds):             0.00\n",
      "Time (Wallclock seconds):       0.01\n",
      "\n",
      "Option for printingOptions changed from normal to all\n",
      "Total time (CPU seconds):       0.01   (Wallclock seconds):       0.01\n",
      "\n"
     ]
    }
   ],
   "source": [
    "lp_solution = linear_program(starting_grid)"
   ]
  },
  {
   "cell_type": "code",
   "execution_count": 6,
   "metadata": {},
   "outputs": [
    {
     "data": {
      "text/plain": [
       "'Solved'"
      ]
     },
     "execution_count": 6,
     "metadata": {},
     "output_type": "execute_result"
    }
   ],
   "source": [
    "check_solution(lp_solution)"
   ]
  },
  {
   "cell_type": "code",
   "execution_count": null,
   "metadata": {},
   "outputs": [],
   "source": []
  }
 ],
 "metadata": {
  "kernelspec": {
   "display_name": "py10_sudoku_env",
   "language": "python",
   "name": "python3"
  },
  "language_info": {
   "codemirror_mode": {
    "name": "ipython",
    "version": 3
   },
   "file_extension": ".py",
   "mimetype": "text/x-python",
   "name": "python",
   "nbconvert_exporter": "python",
   "pygments_lexer": "ipython3",
   "version": "3.10.9"
  },
  "orig_nbformat": 4
 },
 "nbformat": 4,
 "nbformat_minor": 2
}

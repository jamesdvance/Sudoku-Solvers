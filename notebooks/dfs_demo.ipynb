{
 "cells": [
  {
   "cell_type": "code",
   "execution_count": 8,
   "metadata": {},
   "outputs": [],
   "source": [
    "import sys, os \n",
    "import time\n",
    "import gym \n",
    "import numpy as np\n",
    "import gym_sudoku\n",
    "import warnings\n",
    "sys.path.append(\"../\")"
   ]
  },
  {
   "cell_type": "code",
   "execution_count": 9,
   "metadata": {},
   "outputs": [],
   "source": [
    "from utils import get_solutions, check_solution"
   ]
  },
  {
   "cell_type": "code",
   "execution_count": 11,
   "metadata": {},
   "outputs": [
    {
     "ename": "ModuleNotFoundError",
     "evalue": "No module named 'algorithms.dfs_backtracking_low_time'",
     "output_type": "error",
     "traceback": [
      "\u001b[0;31m---------------------------------------------------------------------------\u001b[0m",
      "\u001b[0;31mModuleNotFoundError\u001b[0m                       Traceback (most recent call last)",
      "Cell \u001b[0;32mIn[11], line 1\u001b[0m\n\u001b[0;32m----> 1\u001b[0m \u001b[39mfrom\u001b[39;00m \u001b[39malgorithms\u001b[39;00m \u001b[39mimport\u001b[39;00m dfs_backtracking_low_memory\n",
      "File \u001b[0;32m~/Sudoku-Solvers/notebooks/../algorithms/__init__.py:2\u001b[0m\n\u001b[1;32m      1\u001b[0m \u001b[39mfrom\u001b[39;00m \u001b[39m.\u001b[39;00m\u001b[39mdfs_backtracking_low_memory\u001b[39;00m \u001b[39mimport\u001b[39;00m \u001b[39m*\u001b[39m \n\u001b[0;32m----> 2\u001b[0m \u001b[39mfrom\u001b[39;00m \u001b[39m.\u001b[39;00m\u001b[39mdfs_backtracking_low_time\u001b[39;00m \u001b[39mimport\u001b[39;00m \u001b[39m*\u001b[39m \n\u001b[1;32m      3\u001b[0m \u001b[39mfrom\u001b[39;00m \u001b[39m.\u001b[39;00m\u001b[39mlinear_program\u001b[39;00m \u001b[39mimport\u001b[39;00m \u001b[39m*\u001b[39m\n",
      "\u001b[0;31mModuleNotFoundError\u001b[0m: No module named 'algorithms.dfs_backtracking_low_time'"
     ]
    }
   ],
   "source": [
    "from algorithms import dfs_backtracking_low_memory"
   ]
  },
  {
   "attachments": {},
   "cell_type": "markdown",
   "metadata": {},
   "source": [
    "## Make Gym"
   ]
  },
  {
   "cell_type": "code",
   "execution_count": 4,
   "metadata": {},
   "outputs": [
    {
     "name": "stdout",
     "output_type": "stream",
     "text": [
      "[[0 0 3 0 0 1 5 4 6]\n",
      " [0 0 5 9 3 0 0 1 7]\n",
      " [0 0 7 0 0 5 0 0 3]\n",
      " [7 0 0 8 4 0 1 0 0]\n",
      " [0 0 4 0 0 0 0 5 9]\n",
      " [1 2 0 0 7 9 4 0 8]\n",
      " [9 3 0 0 5 8 0 7 4]\n",
      " [4 0 0 3 0 7 0 8 0]\n",
      " [5 0 8 0 2 4 0 0 0]]\n"
     ]
    }
   ],
   "source": [
    "warnings.catch_warnings()\n",
    "env = gym.make('Sudoku-v0')\n",
    "env.reset()\n",
    "print(env.grid)"
   ]
  },
  {
   "cell_type": "code",
   "execution_count": 5,
   "metadata": {},
   "outputs": [],
   "source": [
    "starting_grid = env.grid"
   ]
  },
  {
   "cell_type": "code",
   "execution_count": 6,
   "metadata": {},
   "outputs": [
    {
     "data": {
      "text/plain": [
       "array([[0, 0, 3, 0, 0, 1, 5, 4, 6],\n",
       "       [0, 0, 5, 9, 3, 0, 0, 1, 7],\n",
       "       [0, 0, 7, 0, 0, 5, 0, 0, 3],\n",
       "       [7, 0, 0, 8, 4, 0, 1, 0, 0],\n",
       "       [0, 0, 4, 0, 0, 0, 0, 5, 9],\n",
       "       [1, 2, 0, 0, 7, 9, 4, 0, 8],\n",
       "       [9, 3, 0, 0, 5, 8, 0, 7, 4],\n",
       "       [4, 0, 0, 3, 0, 7, 0, 8, 0],\n",
       "       [5, 0, 8, 0, 2, 4, 0, 0, 0]])"
      ]
     },
     "execution_count": 6,
     "metadata": {},
     "output_type": "execute_result"
    }
   ],
   "source": [
    "starting_grid"
   ]
  },
  {
   "cell_type": "code",
   "execution_count": 7,
   "metadata": {},
   "outputs": [
    {
     "ename": "NameError",
     "evalue": "name 'dfs_backtracking_low_memory' is not defined",
     "output_type": "error",
     "traceback": [
      "\u001b[0;31m---------------------------------------------------------------------------\u001b[0m",
      "\u001b[0;31mNameError\u001b[0m                                 Traceback (most recent call last)",
      "Cell \u001b[0;32mIn[7], line 7\u001b[0m\n\u001b[1;32m      5\u001b[0m \u001b[39mfor\u001b[39;00m _ \u001b[39min\u001b[39;00m \u001b[39mrange\u001b[39m(\u001b[39m100\u001b[39m):\n\u001b[1;32m      6\u001b[0m     start \u001b[39m=\u001b[39m time\u001b[39m.\u001b[39mperf_counter()\n\u001b[0;32m----> 7\u001b[0m     dfs_solution \u001b[39m=\u001b[39m dfs_backtracking_low_memory(starting_grid)\n\u001b[1;32m      8\u001b[0m     solve_times\u001b[39m.\u001b[39mappend(time\u001b[39m.\u001b[39mperf_counter()\u001b[39m-\u001b[39mstart)\n",
      "\u001b[0;31mNameError\u001b[0m: name 'dfs_backtracking_low_memory' is not defined"
     ]
    }
   ],
   "source": [
    "# Get initial test solutions\n",
    "\n",
    "import time \n",
    "solve_times = []\n",
    "for _ in range(100):\n",
    "    start = time.perf_counter()\n",
    "    dfs_solution = dfs_backtracking_low_memory(starting_grid)\n",
    "    solve_times.append(time.perf_counter()-start)\n"
   ]
  },
  {
   "cell_type": "code",
   "execution_count": 9,
   "metadata": {},
   "outputs": [
    {
     "name": "stdout",
     "output_type": "stream",
     "text": [
      "Average Solve Time 0.0001 seconds\n"
     ]
    }
   ],
   "source": [
    "print(f\"Average Solve Time {round(sum(solve_times)/len(solve_times),4)} seconds\")"
   ]
  },
  {
   "cell_type": "code",
   "execution_count": 10,
   "metadata": {},
   "outputs": [
    {
     "data": {
      "text/plain": [
       "array([[9, 7, 6, 2, 8, 4, 5, 3, 1],\n",
       "       [2, 5, 1, 6, 3, 7, 8, 4, 9],\n",
       "       [4, 3, 8, 1, 9, 5, 6, 2, 7],\n",
       "       [7, 4, 5, 9, 1, 6, 2, 8, 3],\n",
       "       [6, 2, 3, 4, 7, 8, 9, 1, 5],\n",
       "       [8, 1, 9, 3, 5, 2, 7, 6, 4],\n",
       "       [3, 9, 2, 5, 6, 1, 4, 7, 8],\n",
       "       [5, 6, 7, 8, 4, 3, 1, 9, 2],\n",
       "       [1, 8, 4, 7, 2, 9, 3, 5, 6]])"
      ]
     },
     "execution_count": 10,
     "metadata": {},
     "output_type": "execute_result"
    }
   ],
   "source": [
    "dfs_solution"
   ]
  },
  {
   "cell_type": "code",
   "execution_count": 11,
   "metadata": {},
   "outputs": [
    {
     "data": {
      "text/plain": [
       "'Solved'"
      ]
     },
     "execution_count": 11,
     "metadata": {},
     "output_type": "execute_result"
    }
   ],
   "source": [
    "check_solution(dfs_solution)"
   ]
  },
  {
   "cell_type": "code",
   "execution_count": null,
   "metadata": {},
   "outputs": [],
   "source": []
  }
 ],
 "metadata": {
  "kernelspec": {
   "display_name": "py10_sudoku_env",
   "language": "python",
   "name": "python3"
  },
  "language_info": {
   "codemirror_mode": {
    "name": "ipython",
    "version": 3
   },
   "file_extension": ".py",
   "mimetype": "text/x-python",
   "name": "python",
   "nbconvert_exporter": "python",
   "pygments_lexer": "ipython3",
   "version": "3.10.9"
  },
  "orig_nbformat": 4,
  "vscode": {
   "interpreter": {
    "hash": "e11f0e38d0a273650ee6424012dafb5fe7d7c2a050e198e55376a13cb62cf55c"
   }
  }
 },
 "nbformat": 4,
 "nbformat_minor": 2
}

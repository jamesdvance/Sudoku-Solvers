{
 "cells": [
  {
   "cell_type": "code",
   "execution_count": 2,
   "metadata": {},
   "outputs": [],
   "source": [
    "import sys, os \n",
    "import time\n",
    "import gym \n",
    "import numpy as np\n",
    "import gym_sudoku\n",
    "import warnings\n",
    "sys.path.append(\"../\")"
   ]
  },
  {
   "cell_type": "code",
   "execution_count": 3,
   "metadata": {},
   "outputs": [],
   "source": [
    "from utils import get_solutions, check_solution"
   ]
  },
  {
   "cell_type": "code",
   "execution_count": 4,
   "metadata": {},
   "outputs": [],
   "source": [
    "from algorithms import dfs_backtracking_low_memory"
   ]
  },
  {
   "attachments": {},
   "cell_type": "markdown",
   "metadata": {},
   "source": [
    "## Make Gym"
   ]
  },
  {
   "cell_type": "code",
   "execution_count": 5,
   "metadata": {},
   "outputs": [
    {
     "name": "stdout",
     "output_type": "stream",
     "text": [
      "[[0 7 0 0 0 4 5 0 0]\n",
      " [2 0 0 6 0 7 0 0 0]\n",
      " [4 3 0 0 0 0 6 2 7]\n",
      " [7 0 0 9 1 0 0 8 3]\n",
      " [6 0 0 0 0 8 0 0 5]\n",
      " [8 1 0 0 5 0 7 6 4]\n",
      " [0 9 2 5 6 1 4 7 8]\n",
      " [5 0 7 8 0 0 0 9 2]\n",
      " [0 0 0 7 0 9 0 0 0]]\n"
     ]
    }
   ],
   "source": [
    "warnings.catch_warnings()\n",
    "env = gym.make('Sudoku-v0')\n",
    "env.reset()\n",
    "print(env.grid)"
   ]
  },
  {
   "cell_type": "code",
   "execution_count": 6,
   "metadata": {},
   "outputs": [],
   "source": [
    "starting_grid = env.grid"
   ]
  },
  {
   "cell_type": "code",
   "execution_count": 7,
   "metadata": {},
   "outputs": [
    {
     "data": {
      "text/plain": [
       "array([[0, 7, 0, 0, 0, 4, 5, 0, 0],\n",
       "       [2, 0, 0, 6, 0, 7, 0, 0, 0],\n",
       "       [4, 3, 0, 0, 0, 0, 6, 2, 7],\n",
       "       [7, 0, 0, 9, 1, 0, 0, 8, 3],\n",
       "       [6, 0, 0, 0, 0, 8, 0, 0, 5],\n",
       "       [8, 1, 0, 0, 5, 0, 7, 6, 4],\n",
       "       [0, 9, 2, 5, 6, 1, 4, 7, 8],\n",
       "       [5, 0, 7, 8, 0, 0, 0, 9, 2],\n",
       "       [0, 0, 0, 7, 0, 9, 0, 0, 0]])"
      ]
     },
     "execution_count": 7,
     "metadata": {},
     "output_type": "execute_result"
    }
   ],
   "source": [
    "starting_grid"
   ]
  },
  {
   "cell_type": "code",
   "execution_count": 8,
   "metadata": {},
   "outputs": [
    {
     "name": "stdout",
     "output_type": "stream",
     "text": [
      "algorithms.dfs_backtracking_low_memory: 8.730826000828529 ms \n",
      "algorithms.dfs_backtracking_low_memory: 0.027221998607274145 ms \n",
      "algorithms.dfs_backtracking_low_memory: 0.023524000425823033 ms \n",
      "algorithms.dfs_backtracking_low_memory: 0.02329400012968108 ms \n",
      "algorithms.dfs_backtracking_low_memory: 0.023192998924059793 ms \n",
      "algorithms.dfs_backtracking_low_memory: 0.023235999833559617 ms \n",
      "algorithms.dfs_backtracking_low_memory: 0.02306600072188303 ms \n",
      "algorithms.dfs_backtracking_low_memory: 0.023132000933401287 ms \n",
      "algorithms.dfs_backtracking_low_memory: 0.023193999368231744 ms \n",
      "algorithms.dfs_backtracking_low_memory: 0.023082000552676618 ms \n",
      "algorithms.dfs_backtracking_low_memory: 0.02315800156793557 ms \n",
      "algorithms.dfs_backtracking_low_memory: 0.023143998987507075 ms \n",
      "algorithms.dfs_backtracking_low_memory: 0.023146003513829783 ms \n",
      "algorithms.dfs_backtracking_low_memory: 0.02327499896637164 ms \n",
      "algorithms.dfs_backtracking_low_memory: 0.02331100040464662 ms \n",
      "algorithms.dfs_backtracking_low_memory: 0.04518100104178302 ms \n",
      "algorithms.dfs_backtracking_low_memory: 0.05889399835723452 ms \n",
      "algorithms.dfs_backtracking_low_memory: 0.024306998966494575 ms \n",
      "algorithms.dfs_backtracking_low_memory: 0.023546999727841467 ms \n",
      "algorithms.dfs_backtracking_low_memory: 0.02328000118723139 ms \n",
      "algorithms.dfs_backtracking_low_memory: 0.02315600067959167 ms \n",
      "algorithms.dfs_backtracking_low_memory: 0.023136002710089087 ms \n",
      "algorithms.dfs_backtracking_low_memory: 0.02306800161022693 ms \n",
      "algorithms.dfs_backtracking_low_memory: 0.03266899875598028 ms \n",
      "algorithms.dfs_backtracking_low_memory: 0.024554999981774017 ms \n",
      "algorithms.dfs_backtracking_low_memory: 0.023797998437657952 ms \n",
      "algorithms.dfs_backtracking_low_memory: 0.022452000848716125 ms \n",
      "algorithms.dfs_backtracking_low_memory: 0.02227100048912689 ms \n",
      "algorithms.dfs_backtracking_low_memory: 0.6111740003689192 ms \n",
      "algorithms.dfs_backtracking_low_memory: 0.024424996809102595 ms \n",
      "algorithms.dfs_backtracking_low_memory: 0.022570999135496095 ms \n",
      "algorithms.dfs_backtracking_low_memory: 0.0221800000872463 ms \n",
      "algorithms.dfs_backtracking_low_memory: 0.02221399699919857 ms \n",
      "algorithms.dfs_backtracking_low_memory: 0.020791001588804647 ms \n",
      "algorithms.dfs_backtracking_low_memory: 0.02070199843728915 ms \n",
      "algorithms.dfs_backtracking_low_memory: 0.020596002286765724 ms \n",
      "algorithms.dfs_backtracking_low_memory: 0.027389996830606833 ms \n",
      "algorithms.dfs_backtracking_low_memory: 0.021202999050728977 ms \n",
      "algorithms.dfs_backtracking_low_memory: 0.024101002054521814 ms \n",
      "algorithms.dfs_backtracking_low_memory: 0.02075899828923866 ms \n",
      "algorithms.dfs_backtracking_low_memory: 0.02067600144073367 ms \n",
      "algorithms.dfs_backtracking_low_memory: 0.02072200004477054 ms \n",
      "algorithms.dfs_backtracking_low_memory: 0.020801002392545342 ms \n",
      "algorithms.dfs_backtracking_low_memory: 0.020666000636992976 ms \n",
      "algorithms.dfs_backtracking_low_memory: 0.020786003005923703 ms \n",
      "algorithms.dfs_backtracking_low_memory: 0.020755000150529668 ms \n",
      "algorithms.dfs_backtracking_low_memory: 0.02072900315397419 ms \n",
      "algorithms.dfs_backtracking_low_memory: 0.02075800148304552 ms \n",
      "algorithms.dfs_backtracking_low_memory: 0.020006002159789205 ms \n",
      "algorithms.dfs_backtracking_low_memory: 0.020020001102238894 ms \n",
      "algorithms.dfs_backtracking_low_memory: 0.019986000552307814 ms \n",
      "algorithms.dfs_backtracking_low_memory: 0.020051000319654122 ms \n",
      "algorithms.dfs_backtracking_low_memory: 0.02009899981203489 ms \n",
      "algorithms.dfs_backtracking_low_memory: 0.020090003090444952 ms \n",
      "algorithms.dfs_backtracking_low_memory: 0.01994600097532384 ms \n",
      "algorithms.dfs_backtracking_low_memory: 0.020072999177500606 ms \n",
      "algorithms.dfs_backtracking_low_memory: 0.020022998796775937 ms \n",
      "algorithms.dfs_backtracking_low_memory: 0.01998100196942687 ms \n",
      "algorithms.dfs_backtracking_low_memory: 0.021465999452630058 ms \n",
      "algorithms.dfs_backtracking_low_memory: 0.027383000997360796 ms \n",
      "algorithms.dfs_backtracking_low_memory: 0.026624002202879637 ms \n",
      "algorithms.dfs_backtracking_low_memory: 0.020060000679222867 ms \n",
      "algorithms.dfs_backtracking_low_memory: 0.02009699892369099 ms \n",
      "algorithms.dfs_backtracking_low_memory: 0.0200100002984982 ms \n",
      "algorithms.dfs_backtracking_low_memory: 0.020022001990582794 ms \n",
      "algorithms.dfs_backtracking_low_memory: 0.02006299837375991 ms \n",
      "algorithms.dfs_backtracking_low_memory: 0.021480002033058554 ms \n",
      "algorithms.dfs_backtracking_low_memory: 0.02006599970627576 ms \n",
      "algorithms.dfs_backtracking_low_memory: 0.01999199957936071 ms \n",
      "algorithms.dfs_backtracking_low_memory: 0.019970997527707368 ms \n",
      "algorithms.dfs_backtracking_low_memory: 0.020371000573504716 ms \n",
      "algorithms.dfs_backtracking_low_memory: 0.02001500251935795 ms \n",
      "algorithms.dfs_backtracking_low_memory: 0.020019000658066943 ms \n",
      "algorithms.dfs_backtracking_low_memory: 0.02018699888139963 ms \n",
      "algorithms.dfs_backtracking_low_memory: 0.01996600258280523 ms \n",
      "algorithms.dfs_backtracking_low_memory: 0.020018997020088136 ms \n",
      "algorithms.dfs_backtracking_low_memory: 0.020006998965982348 ms \n",
      "algorithms.dfs_backtracking_low_memory: 0.020039002265548334 ms \n",
      "algorithms.dfs_backtracking_low_memory: 0.020152998331468552 ms \n",
      "algorithms.dfs_backtracking_low_memory: 0.020032999600516632 ms \n",
      "algorithms.dfs_backtracking_low_memory: 0.020039999071741477 ms \n",
      "algorithms.dfs_backtracking_low_memory: 0.01990899909287691 ms \n",
      "algorithms.dfs_backtracking_low_memory: 0.01999500091187656 ms \n",
      "algorithms.dfs_backtracking_low_memory: 0.020090999896638095 ms \n",
      "algorithms.dfs_backtracking_low_memory: 0.020024999685119838 ms \n",
      "algorithms.dfs_backtracking_low_memory: 0.020163999579381198 ms \n",
      "algorithms.dfs_backtracking_low_memory: 0.02008199953706935 ms \n",
      "algorithms.dfs_backtracking_low_memory: 0.020044000848429278 ms \n",
      "algorithms.dfs_backtracking_low_memory: 0.020020001102238894 ms \n",
      "algorithms.dfs_backtracking_low_memory: 0.020122999558225274 ms \n",
      "algorithms.dfs_backtracking_low_memory: 0.02009499803534709 ms \n",
      "algorithms.dfs_backtracking_low_memory: 0.020016999769723043 ms \n",
      "algorithms.dfs_backtracking_low_memory: 0.020080002286704257 ms \n",
      "algorithms.dfs_backtracking_low_memory: 0.02296499951626174 ms \n",
      "algorithms.dfs_backtracking_low_memory: 0.03214000025764108 ms \n",
      "algorithms.dfs_backtracking_low_memory: 0.020208000933052972 ms \n",
      "algorithms.dfs_backtracking_low_memory: 0.020041999960085377 ms \n",
      "algorithms.dfs_backtracking_low_memory: 0.020228999346727505 ms \n",
      "algorithms.dfs_backtracking_low_memory: 0.02009399759117514 ms \n",
      "algorithms.dfs_backtracking_low_memory: 0.020231000235071406 ms \n"
     ]
    }
   ],
   "source": [
    "# Get initial test solutions\n",
    "\n",
    "import time \n",
    "solve_times = []\n",
    "for _ in range(100):\n",
    "    start = time.perf_counter()\n",
    "    dfs_solution = dfs_backtracking_low_memory(starting_grid)\n",
    "    solve_times.append(time.perf_counter()-start)\n"
   ]
  },
  {
   "cell_type": "code",
   "execution_count": 9,
   "metadata": {},
   "outputs": [
    {
     "name": "stdout",
     "output_type": "stream",
     "text": [
      "Average Solve Time 0.0001 seconds\n"
     ]
    }
   ],
   "source": [
    "print(f\"Average Solve Time {round(sum(solve_times)/len(solve_times),4)} seconds\")"
   ]
  },
  {
   "cell_type": "code",
   "execution_count": 10,
   "metadata": {},
   "outputs": [
    {
     "data": {
      "text/plain": [
       "array([[9, 7, 6, 2, 8, 4, 5, 3, 1],\n",
       "       [2, 5, 1, 6, 3, 7, 8, 4, 9],\n",
       "       [4, 3, 8, 1, 9, 5, 6, 2, 7],\n",
       "       [7, 4, 5, 9, 1, 6, 2, 8, 3],\n",
       "       [6, 2, 3, 4, 7, 8, 9, 1, 5],\n",
       "       [8, 1, 9, 3, 5, 2, 7, 6, 4],\n",
       "       [3, 9, 2, 5, 6, 1, 4, 7, 8],\n",
       "       [5, 6, 7, 8, 4, 3, 1, 9, 2],\n",
       "       [1, 8, 4, 7, 2, 9, 3, 5, 6]])"
      ]
     },
     "execution_count": 10,
     "metadata": {},
     "output_type": "execute_result"
    }
   ],
   "source": [
    "dfs_solution"
   ]
  },
  {
   "cell_type": "code",
   "execution_count": 11,
   "metadata": {},
   "outputs": [
    {
     "data": {
      "text/plain": [
       "'Solved'"
      ]
     },
     "execution_count": 11,
     "metadata": {},
     "output_type": "execute_result"
    }
   ],
   "source": [
    "check_solution(dfs_solution)"
   ]
  },
  {
   "cell_type": "code",
   "execution_count": null,
   "metadata": {},
   "outputs": [],
   "source": []
  }
 ],
 "metadata": {
  "kernelspec": {
   "display_name": "py10_sudoku_env",
   "language": "python",
   "name": "python3"
  },
  "language_info": {
   "codemirror_mode": {
    "name": "ipython",
    "version": 3
   },
   "file_extension": ".py",
   "mimetype": "text/x-python",
   "name": "python",
   "nbconvert_exporter": "python",
   "pygments_lexer": "ipython3",
   "version": "3.10.9"
  },
  "orig_nbformat": 4,
  "vscode": {
   "interpreter": {
    "hash": "e11f0e38d0a273650ee6424012dafb5fe7d7c2a050e198e55376a13cb62cf55c"
   }
  }
 },
 "nbformat": 4,
 "nbformat_minor": 2
}

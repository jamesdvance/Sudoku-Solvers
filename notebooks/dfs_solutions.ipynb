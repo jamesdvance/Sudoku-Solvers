{
 "cells": [
  {
   "cell_type": "code",
   "execution_count": 2,
   "metadata": {},
   "outputs": [],
   "source": [
    "import sys, os \n",
    "import time\n",
    "import gym \n",
    "import numpy as np\n",
    "import gym_sudoku\n",
    "import warnings\n",
    "sys.path.append(\"../\")"
   ]
  },
  {
   "cell_type": "code",
   "execution_count": 3,
   "metadata": {},
   "outputs": [],
   "source": [
    "from utils import get_solutions, check_solution"
   ]
  },
  {
   "cell_type": "code",
   "execution_count": 4,
   "metadata": {},
   "outputs": [],
   "source": [
    "from algorithms import dfs_backtracking_low_memory"
   ]
  },
  {
   "attachments": {},
   "cell_type": "markdown",
   "metadata": {},
   "source": [
    "## Make Gym"
   ]
  },
  {
   "cell_type": "code",
   "execution_count": 5,
   "metadata": {},
   "outputs": [
    {
     "name": "stdout",
     "output_type": "stream",
     "text": [
      "[[8 1 4 7 9 0 5 2 0]\n",
      " [0 0 5 1 0 2 0 9 8]\n",
      " [0 9 0 3 0 0 7 0 1]\n",
      " [4 0 0 0 0 0 0 0 0]\n",
      " [0 0 7 6 0 0 9 0 5]\n",
      " [5 2 3 9 8 0 4 1 6]\n",
      " [0 4 0 0 0 3 0 0 9]\n",
      " [3 0 0 0 0 0 2 8 0]\n",
      " [0 7 2 8 0 5 0 0 4]]\n"
     ]
    },
    {
     "name": "stderr",
     "output_type": "stream",
     "text": [
      "/home/james/anaconda3/envs/py10_sudoku_env/lib/python3.10/site-packages/gym/utils/passive_env_checker.py:31: UserWarning: \u001b[33mWARN: A Box observation space has an unconventional shape (neither an image, nor a 1D vector). We recommend flattening the observation to have only a 1D vector or use a custom policy to properly process the data. Actual observation shape: (9, 9)\u001b[0m\n",
      "  logger.warn(\n",
      "/home/james/anaconda3/envs/py10_sudoku_env/lib/python3.10/site-packages/gym/utils/passive_env_checker.py:174: UserWarning: \u001b[33mWARN: Future gym versions will require that `Env.reset` can be passed a `seed` instead of using `Env.seed` for resetting the environment random number generator.\u001b[0m\n",
      "  logger.warn(\n",
      "/home/james/anaconda3/envs/py10_sudoku_env/lib/python3.10/site-packages/gym/utils/passive_env_checker.py:187: UserWarning: \u001b[33mWARN: Future gym versions will require that `Env.reset` can be passed `options` to allow the environment initialisation to be passed additional information.\u001b[0m\n",
      "  logger.warn(\n",
      "/home/james/anaconda3/envs/py10_sudoku_env/lib/python3.10/site-packages/gym/utils/passive_env_checker.py:195: UserWarning: \u001b[33mWARN: The result returned by `env.reset()` was not a tuple of the form `(obs, info)`, where `obs` is a observation and `info` is a dictionary containing additional information. Actual type: `<class 'numpy.ndarray'>`\u001b[0m\n",
      "  logger.warn(\n"
     ]
    }
   ],
   "source": [
    "warnings.catch_warnings()\n",
    "env = gym.make('Sudoku-v0')\n",
    "env.reset()\n",
    "print(env.grid)"
   ]
  },
  {
   "cell_type": "code",
   "execution_count": 6,
   "metadata": {},
   "outputs": [],
   "source": [
    "starting_grid = env.grid"
   ]
  },
  {
   "cell_type": "code",
   "execution_count": 7,
   "metadata": {},
   "outputs": [
    {
     "data": {
      "text/plain": [
       "array([[8, 1, 4, 7, 9, 0, 5, 2, 0],\n",
       "       [0, 0, 5, 1, 0, 2, 0, 9, 8],\n",
       "       [0, 9, 0, 3, 0, 0, 7, 0, 1],\n",
       "       [4, 0, 0, 0, 0, 0, 0, 0, 0],\n",
       "       [0, 0, 7, 6, 0, 0, 9, 0, 5],\n",
       "       [5, 2, 3, 9, 8, 0, 4, 1, 6],\n",
       "       [0, 4, 0, 0, 0, 3, 0, 0, 9],\n",
       "       [3, 0, 0, 0, 0, 0, 2, 8, 0],\n",
       "       [0, 7, 2, 8, 0, 5, 0, 0, 4]])"
      ]
     },
     "execution_count": 7,
     "metadata": {},
     "output_type": "execute_result"
    }
   ],
   "source": [
    "starting_grid"
   ]
  },
  {
   "cell_type": "code",
   "execution_count": 8,
   "metadata": {},
   "outputs": [
    {
     "name": "stdout",
     "output_type": "stream",
     "text": [
      "algorithms.dfs_backtracking_low_memory: 3.0373600000075385 ms \n"
     ]
    }
   ],
   "source": [
    "# Get initial test solutions\n",
    "dfs_solution = dfs_backtracking_low_memory(starting_grid)\n"
   ]
  },
  {
   "cell_type": "code",
   "execution_count": 9,
   "metadata": {},
   "outputs": [
    {
     "data": {
      "text/plain": [
       "array([[8, 1, 4, 7, 9, 6, 5, 2, 3],\n",
       "       [7, 3, 5, 1, 4, 2, 6, 9, 8],\n",
       "       [2, 9, 6, 3, 5, 8, 7, 4, 1],\n",
       "       [4, 6, 9, 5, 3, 1, 8, 7, 2],\n",
       "       [1, 8, 7, 6, 2, 4, 9, 3, 5],\n",
       "       [5, 2, 3, 9, 8, 7, 4, 1, 6],\n",
       "       [6, 4, 8, 2, 7, 3, 1, 5, 9],\n",
       "       [3, 5, 1, 4, 6, 9, 2, 8, 7],\n",
       "       [9, 7, 2, 8, 1, 5, 3, 6, 4]])"
      ]
     },
     "execution_count": 9,
     "metadata": {},
     "output_type": "execute_result"
    }
   ],
   "source": [
    "dfs_solution"
   ]
  },
  {
   "cell_type": "code",
   "execution_count": 10,
   "metadata": {},
   "outputs": [
    {
     "data": {
      "text/plain": [
       "0"
      ]
     },
     "execution_count": 10,
     "metadata": {},
     "output_type": "execute_result"
    }
   ],
   "source": [
    "check_solution(dfs_solution)"
   ]
  },
  {
   "cell_type": "code",
   "execution_count": null,
   "metadata": {},
   "outputs": [],
   "source": []
  }
 ],
 "metadata": {
  "kernelspec": {
   "display_name": "py10_sudoku_env",
   "language": "python",
   "name": "python3"
  },
  "language_info": {
   "codemirror_mode": {
    "name": "ipython",
    "version": 3
   },
   "file_extension": ".py",
   "mimetype": "text/x-python",
   "name": "python",
   "nbconvert_exporter": "python",
   "pygments_lexer": "ipython3",
   "version": "3.10.9"
  },
  "orig_nbformat": 4,
  "vscode": {
   "interpreter": {
    "hash": "e11f0e38d0a273650ee6424012dafb5fe7d7c2a050e198e55376a13cb62cf55c"
   }
  }
 },
 "nbformat": 4,
 "nbformat_minor": 2
}

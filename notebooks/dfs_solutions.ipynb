{
 "cells": [
  {
   "cell_type": "code",
   "execution_count": 9,
   "metadata": {},
   "outputs": [],
   "source": [
    "import sys, os \n",
    "import time\n",
    "import gym \n",
    "import numpy as np\n",
    "import gym_sudoku\n",
    "import warnings\n",
    "sys.path.append(\"../\")"
   ]
  },
  {
   "cell_type": "code",
   "execution_count": 10,
   "metadata": {},
   "outputs": [],
   "source": [
    "from utils import get_solutions, check_solution"
   ]
  },
  {
   "cell_type": "code",
   "execution_count": 11,
   "metadata": {},
   "outputs": [],
   "source": [
    "from algorithms import dfs_backtracking_low_memory"
   ]
  },
  {
   "attachments": {},
   "cell_type": "markdown",
   "metadata": {},
   "source": [
    "## Make Gym"
   ]
  },
  {
   "cell_type": "code",
   "execution_count": 12,
   "metadata": {},
   "outputs": [
    {
     "name": "stdout",
     "output_type": "stream",
     "text": [
      "[[2 3 8 0 7 0 0 6 0]\n",
      " [0 0 1 0 0 0 7 3 2]\n",
      " [0 6 5 2 3 1 9 4 8]\n",
      " [0 0 0 3 9 7 0 0 0]\n",
      " [6 5 7 1 0 0 0 0 4]\n",
      " [0 8 9 0 4 0 0 2 7]\n",
      " [0 2 0 7 0 0 0 5 6]\n",
      " [0 0 3 0 0 0 0 1 0]\n",
      " [8 0 6 5 0 0 4 0 0]]\n"
     ]
    }
   ],
   "source": [
    "warnings.catch_warnings()\n",
    "env = gym.make('Sudoku-v0')\n",
    "env.reset()\n",
    "print(env.grid)"
   ]
  },
  {
   "cell_type": "code",
   "execution_count": 13,
   "metadata": {},
   "outputs": [],
   "source": [
    "starting_grid = env.grid"
   ]
  },
  {
   "cell_type": "code",
   "execution_count": 14,
   "metadata": {},
   "outputs": [
    {
     "data": {
      "text/plain": [
       "array([[2, 3, 8, 0, 7, 0, 0, 6, 0],\n",
       "       [0, 0, 1, 0, 0, 0, 7, 3, 2],\n",
       "       [0, 6, 5, 2, 3, 1, 9, 4, 8],\n",
       "       [0, 0, 0, 3, 9, 7, 0, 0, 0],\n",
       "       [6, 5, 7, 1, 0, 0, 0, 0, 4],\n",
       "       [0, 8, 9, 0, 4, 0, 0, 2, 7],\n",
       "       [0, 2, 0, 7, 0, 0, 0, 5, 6],\n",
       "       [0, 0, 3, 0, 0, 0, 0, 1, 0],\n",
       "       [8, 0, 6, 5, 0, 0, 4, 0, 0]])"
      ]
     },
     "execution_count": 14,
     "metadata": {},
     "output_type": "execute_result"
    }
   ],
   "source": [
    "starting_grid"
   ]
  },
  {
   "cell_type": "code",
   "execution_count": 15,
   "metadata": {},
   "outputs": [
    {
     "name": "stdout",
     "output_type": "stream",
     "text": [
      "algorithms.dfs_backtracking_low_memory: 11 ms \n"
     ]
    }
   ],
   "source": [
    "# Get initial test solutions\n",
    "dfs_solution = dfs_backtracking_low_memory(starting_grid)\n"
   ]
  },
  {
   "cell_type": "code",
   "execution_count": 16,
   "metadata": {},
   "outputs": [
    {
     "data": {
      "text/plain": [
       "array([[2, 3, 8, 9, 7, 4, 5, 6, 1],\n",
       "       [4, 9, 1, 8, 5, 6, 7, 3, 2],\n",
       "       [7, 6, 5, 2, 3, 1, 9, 4, 8],\n",
       "       [1, 4, 2, 3, 9, 7, 6, 8, 5],\n",
       "       [6, 5, 7, 1, 8, 2, 3, 9, 4],\n",
       "       [3, 8, 9, 6, 4, 5, 1, 2, 7],\n",
       "       [9, 2, 4, 7, 1, 3, 8, 5, 6],\n",
       "       [5, 7, 3, 4, 6, 8, 2, 1, 9],\n",
       "       [8, 1, 6, 5, 2, 9, 4, 7, 3]])"
      ]
     },
     "execution_count": 16,
     "metadata": {},
     "output_type": "execute_result"
    }
   ],
   "source": [
    "dfs_solution"
   ]
  },
  {
   "cell_type": "code",
   "execution_count": null,
   "metadata": {},
   "outputs": [],
   "source": []
  }
 ],
 "metadata": {
  "kernelspec": {
   "display_name": "py10_sudoku_env",
   "language": "python",
   "name": "python3"
  },
  "language_info": {
   "codemirror_mode": {
    "name": "ipython",
    "version": 3
   },
   "file_extension": ".py",
   "mimetype": "text/x-python",
   "name": "python",
   "nbconvert_exporter": "python",
   "pygments_lexer": "ipython3",
   "version": "3.10.9"
  },
  "orig_nbformat": 4,
  "vscode": {
   "interpreter": {
    "hash": "e11f0e38d0a273650ee6424012dafb5fe7d7c2a050e198e55376a13cb62cf55c"
   }
  }
 },
 "nbformat": 4,
 "nbformat_minor": 2
}

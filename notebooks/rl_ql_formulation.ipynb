{
 "cells": [
  {
   "cell_type": "code",
   "execution_count": 1,
   "metadata": {},
   "outputs": [],
   "source": [
    "import sys, os \n",
    "import gym \n",
    "import numpy as np\n",
    "import gym_sudoku\n",
    "import stable_baselines3"
   ]
  },
  {
   "attachments": {},
   "cell_type": "markdown",
   "metadata": {},
   "source": [
    "## Reinforcement Learning\n",
    "\n",
    "* [Stable Baselines 3 (Pytorch)](https://github.com/DLR-RM/stable-baselines3)"
   ]
  },
  {
   "cell_type": "code",
   "execution_count": 2,
   "metadata": {},
   "outputs": [
    {
     "data": {
      "text/plain": [
       "array([[0, 0, 0, 6, 0, 8, 9, 5, 0],\n",
       "       [0, 1, 0, 3, 4, 9, 0, 6, 7],\n",
       "       [0, 0, 0, 0, 0, 0, 1, 0, 0],\n",
       "       [0, 5, 9, 1, 0, 2, 6, 0, 0],\n",
       "       [1, 0, 6, 0, 0, 3, 0, 0, 0],\n",
       "       [3, 2, 0, 5, 8, 0, 7, 0, 0],\n",
       "       [0, 0, 2, 0, 6, 4, 5, 8, 0],\n",
       "       [6, 0, 0, 8, 3, 0, 4, 7, 0],\n",
       "       [0, 8, 1, 0, 0, 7, 3, 9, 6]])"
      ]
     },
     "execution_count": 2,
     "metadata": {},
     "output_type": "execute_result"
    }
   ],
   "source": [
    "env = gym.make('Sudoku-v0')\n",
    "env.reset()"
   ]
  },
  {
   "cell_type": "code",
   "execution_count": 3,
   "metadata": {},
   "outputs": [
    {
     "name": "stdout",
     "output_type": "stream",
     "text": [
      "000 | 608 | 950\n",
      "010 | 349 | 067\n",
      "000 | 000 | 100\n",
      "---------------\n",
      "059 | 102 | 600\n",
      "106 | 003 | 000\n",
      "320 | 580 | 700\n",
      "---------------\n",
      "002 | 064 | 580\n",
      "600 | 830 | 470\n",
      "081 | 007 | 396\n",
      "\n",
      "\n"
     ]
    }
   ],
   "source": [
    "env.render()"
   ]
  },
  {
   "attachments": {},
   "cell_type": "markdown",
   "metadata": {},
   "source": [
    "stable_baselines3.dqn"
   ]
  }
 ],
 "metadata": {
  "kernelspec": {
   "display_name": "py10_sudoku_env",
   "language": "python",
   "name": "python3"
  },
  "language_info": {
   "codemirror_mode": {
    "name": "ipython",
    "version": 3
   },
   "file_extension": ".py",
   "mimetype": "text/x-python",
   "name": "python",
   "nbconvert_exporter": "python",
   "pygments_lexer": "ipython3",
   "version": "3.10.9"
  },
  "orig_nbformat": 4
 },
 "nbformat": 4,
 "nbformat_minor": 2
}
